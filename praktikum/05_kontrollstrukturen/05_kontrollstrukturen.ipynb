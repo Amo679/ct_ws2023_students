{
 "cells": [
  {
   "cell_type": "code",
   "execution_count": 57,
   "metadata": {
    "deletable": false,
    "editable": false
   },
   "outputs": [],
   "source": [
    "# Initialize Otter\n",
    "import otter\n",
    "grader = otter.Notebook(\"05_kontrollstrukturen.ipynb\")"
   ]
  },
  {
   "cell_type": "markdown",
   "metadata": {},
   "source": [
    "# Computational Thinking WS2023/24\n",
    "\n",
    "## Kontrollstrukturen\n",
    "\n",
    "**Autoren:** \n",
    "+ Prof. Benedikt Dietrich"
   ]
  },
  {
   "cell_type": "markdown",
   "metadata": {},
   "source": [
    "## Ein Essensautomat für die Mensa"
   ]
  },
  {
   "cell_type": "markdown",
   "metadata": {},
   "source": [
    "In der folgenden Aufgabe soll eine Menü-Führung für den Mensa-Essensautomat \"DasKlingtJaLecker\" entwickelt werden. Das Menü soll als einfacher Text ausgegeben werden. Der Nutzer soll mit der Tastatur sein Essen zusammenstellen können.\n",
    "\n",
    "Die einzelnen Menüpunkte sind mit folgendem Text gegeben:\n",
    "\n",
    "```text\n",
    "    Bitte wählen Sie Ihre Vorspeise:\n",
    "    1) Suppe\n",
    "    2) keine Vorspeise\n",
    "\n",
    "    Bitte wählen Sie Ihr Hautspeise: \n",
    "    1) Fleischgericht\n",
    "    2) Fisch\n",
    "    3) Vegetarisch\n",
    "    4) kein Hauptgericht\n",
    "\n",
    "    Bitte wählen Sie Ihre Nachspeise:\n",
    "    1) Kekse\n",
    "    2) Pudding\n",
    "    3) keine Nachspeise\n",
    "```\n",
    "\n",
    "Am Ende soll eine Zusammenfassung der Bestellung in folgender Form ausgegeben werden:\n",
    "\n",
    "```text\n",
    "    Sie haben gewählt:\n",
    "\n",
    "    Vorspeise: keine Vorspeise\n",
    "    Hauptgericht: Fisch\n",
    "    Nachspeise: Kekse\n",
    "```\n",
    "\n",
    "Sollte ein Nutzer sowohl Vor-, Haupt- und Nachspeise gewählt haben, soll außerdem am Ende die folgende Nachricht ausgegeben werden:\n",
    "\n",
    "```text\n",
    "    Hunger ist der beste Koch!\n",
    "```\n",
    "\n",
    "Wählt ein Nutzer weder Vor-, Haupt- und Nachspeise, soll am am Ende die folgende Nachricht ausgegeben werden:\n",
    "\n",
    "```text\n",
    "    Sie haben wohl keinen Hunger. Vielleicht sehen wir uns später nochmal.\n",
    "```"
   ]
  },
  {
   "cell_type": "markdown",
   "metadata": {},
   "source": [
    "Mit Hilfe der Built-In Funktion `int()` können Sie den den String in eine Zahl umwandeln, mit der Sie auch rechnen können: "
   ]
  },
  {
   "cell_type": "code",
   "execution_count": 2,
   "metadata": {},
   "outputs": [
    {
     "name": "stdout",
     "output_type": "stream",
     "text": [
      "Sie sind 21 Jahre jung.\n",
      "Der Typ von alter ist: <class 'int'>\n"
     ]
    }
   ],
   "source": [
    "alter_string = input(\"Bitte geben Sie Ihr Alter ein: \")\n",
    "alter_int = int(alter_string)\n",
    "print(f\"Sie sind {alter_int} Jahre jung.\")\n",
    "print(f\"Der Typ von alter ist: {type(alter_int)}\")"
   ]
  },
  {
   "cell_type": "markdown",
   "metadata": {},
   "source": [
    "### Einschub - Divide and Conquer\n",
    "\n",
    "Die oben beschriebenen Anforderungen an unseren Automaten klingen erst einmal komplex. Um eine komplexe Aufgabe in der Informatik zu lösen bedient man sich eines Ansatzes namens *Divide & Conquer*: Man teilt das große, scheinbar komplexe oder gar unlösbare Problem in mehrere kleinere Probleme, die sich für sich lösen lassen (divide). Die Kombination der Einzellösungen ergibt dann idealerweise die Lösung des Gesamtproblems (conquer)."
   ]
  },
  {
   "cell_type": "markdown",
   "metadata": {
    "deletable": false,
    "editable": false
   },
   "source": [
    "### Aufgabe 2\n",
    "\n",
    "Zerlegen Sie obige Anforderungen in mindestens drei Teilprobleme."
   ]
  },
  {
   "cell_type": "markdown",
   "metadata": {},
   "source": [
    "### Aufgabe 3\n",
    "\n",
    "Schreiben Sie ein Programm, welches den Nutzer auffordert 1, 2 oder 3 auszuwählen. Wenn der Nutzer eine falsche Eingabe tätigt (eine falsche Zahl), soll Ihr Programm eine Fehlermeldung ausgeben. Ansonsten soll ausgegeben werden:\n",
    "\n",
    "```text\n",
    "    Sie haben x) gewählt\n",
    "```\n",
    "\n",
    "wobei x natürlich durch den entsprechenden Buchstaben zu ersetzen ist."
   ]
  },
  {
   "cell_type": "code",
   "execution_count": 30,
   "metadata": {
    "tags": []
   },
   "outputs": [
    {
     "name": "stdout",
     "output_type": "stream",
     "text": [
      "Fehler, bitte geben Sie eine Zahl zwischen 1 und 3 ein!\n"
     ]
    }
   ],
   "source": [
    "Auswahl_string = input(\"Bitte geben Sie eine Zahl zwischen 1 und 3 ein: \")\n",
    "Auswahl_int = int(Auswahl_string)\n",
    "if Auswahl_int in (1, 2, 3):\n",
    "    print(f\"Sie haben {Auswahl_int} gewählt\")\n",
    "else:\n",
    "    print(f\"Fehler, bitte geben Sie eine Zahl zwischen 1 und 3 ein!\")\n"
   ]
  },
  {
   "cell_type": "markdown",
   "metadata": {
    "deletable": false,
    "editable": false
   },
   "source": [
    "### Aufgabe 4\n",
    "\n",
    "Kopieren Sie den Code von oben in die nächste Zelle und ändern Sie den Code nun so ab, dass der Nutzer so lange aufgefordert wird auszuwählen, bis er eine gültige Zahl eingetippt hat. Gibt der Nutzer etwas anderes ein soll der Text\n",
    "\n",
    "```text\n",
    "    Falsche Eingabe.\n",
    "```\n",
    "\n",
    "ausgegeben werden und der Nutzer erneut aufgefordert werden, auszuwählen."
   ]
  },
  {
   "cell_type": "code",
   "execution_count": 32,
   "metadata": {
    "tags": []
   },
   "outputs": [
    {
     "name": "stdout",
     "output_type": "stream",
     "text": [
      "Falsche Eingabe\n",
      "Falsche Eingabe\n",
      "Sie haben 3 gewählt\n"
     ]
    }
   ],
   "source": [
    "choice = None\n",
    "\n",
    "while True:\n",
    "    Auswahl_string = input(\"Bitte geben Sie eine Zahl zwischen 1 und 3 ein: \")\n",
    "    Auswahl_int = int(Auswahl_string)\n",
    "    if Auswahl_int in (1, 2, 3):\n",
    "        print(f\"Sie haben {Auswahl_int} gewählt\")\n",
    "        break\n",
    "    else:\n",
    "        print(f\"Falsche Eingabe\")"
   ]
  },
  {
   "cell_type": "markdown",
   "metadata": {
    "deletable": false,
    "editable": false
   },
   "source": [
    "### Aufgabe 5\n",
    "\n",
    "Erstellen Sie nun ein Programm, das den Nutzer jeweils fragt, was er als Vor-, Haupt- und Nachspeise essen will. Sollte der Nutzer für einen der Punkte etwas ungültiges eingeben, soll er, wie in Aufgabe 4 gelöst, erneut aufgefordert werden, einen gültigen Menüpunkt auszuwählen.\n",
    "\n",
    "Verzichten Sie noch auf die Zusammenfassung der Bestellung."
   ]
  },
  {
   "cell_type": "code",
   "execution_count": 38,
   "metadata": {
    "tags": []
   },
   "outputs": [
    {
     "name": "stdout",
     "output_type": "stream",
     "text": [
      "Fehler, bitte wählen Sie jeweils eine gültige Option\n",
      "Fehler, bitte wählen Sie jeweils eine gültige Option\n",
      "Fehler, bitte wählen Sie jeweils eine gültige Option\n",
      "Fehler, bitte wählen Sie jeweils eine gültige Option\n",
      "Sie haben die Vorspeise 0 gewählt\n",
      "Sie haben die Hauptspeise 0 gewählt\n",
      "Sie haben die Nachspeise 0 gewählt\n"
     ]
    }
   ],
   "source": [
    "Gerichte_string = (\"Vorspeise\", \"Hauptspeise\", \"Nachspeise\")\n",
    "for Gericht in Gerichte:\n",
    "    while True:\n",
    "        Eingabe = input(f\"Bitte wählen Sie eine {Gericht}-Option 0-3 aus: \")\n",
    "        if Eingabe in (\"0\", \"1\", \"2\", \"3\"):\n",
    "            print(f\"Sie haben die {Gericht} {Eingabe} gewählt\")\n",
    "            break\n",
    "        else:\n",
    "            print(f\"Fehler, bitte wählen Sie jeweils eine gültige Option\")"
   ]
  },
  {
   "cell_type": "markdown",
   "metadata": {},
   "source": [
    "### Einschub - Listen in der for-Schleife\n",
    "\n",
    "Wir werden Listen noch im Detail behandeln. Hier sollen Sie Listen aber schon einmal \"ausprobieren\". \n",
    "\n",
    "Folgendes Code-Beispiel zeigt, wie man Listen von Strings in Kombination mit `for`-Schleifen effizient verwenden kann:"
   ]
  },
  {
   "cell_type": "code",
   "execution_count": 39,
   "metadata": {},
   "outputs": [
    {
     "name": "stdout",
     "output_type": "stream",
     "text": [
      "1) Suppe\n",
      "2) keine Vorspeise\n"
     ]
    }
   ],
   "source": [
    "vorspeisen = [\"Suppe\", \"keine Vorspeise\"]\n",
    "for index, vorspeise in enumerate(vorspeisen):\n",
    "    print(f\"{index + 1}) {vorspeise}\")"
   ]
  },
  {
   "cell_type": "markdown",
   "metadata": {
    "deletable": false,
    "editable": false
   },
   "source": [
    "### Aufgabe 6\n",
    "\n",
    "Kopieren Sie Ihr Programm von oben in eine Zelle und vereinfachen Sie Ihr Programm mit Hilfe des im \"Einschub - Listen in der for-Schleife\" gegebenen Source Codes. Wenden Sie dies auch für Haupt- und Nachspeise an."
   ]
  },
  {
   "cell_type": "code",
   "execution_count": 59,
   "metadata": {
    "tags": []
   },
   "outputs": [
    {
     "name": "stdout",
     "output_type": "stream",
     "text": [
      "Möglichkeiten für Vorspeise: \n",
      "0) Suppe\n",
      "1) Salat\n",
      "2) Brot\n",
      "3) keine Vorspeise\n",
      "Sie haben die Vorspeise Salat gewählt\n",
      "Möglichkeiten für Hauptspeise: \n",
      "0) Fleisch\n",
      "1) Vegetarisch\n",
      "2) Vegan\n",
      "3) keine Hauptspeise\n",
      "Sie haben die Hauptspeise Vegetarisch gewählt\n",
      "Möglichkeiten für Nachspeise: \n",
      "0) Süßes\n",
      "1) Obst\n",
      "2) Kaffee\n",
      "3) keine Nachspeise\n",
      "Sie haben die Nachspeise Obst gewählt\n"
     ]
    }
   ],
   "source": [
    "Gerichte = {\"Vorspeise\" : [\"Suppe\", \"Salat\", \"Brot\", \"keine Vorspeise\"],\n",
    "            \"Hauptspeise\": [\"Fleisch\", \"Vegetarisch\", \"Vegan\", \"keine Hauptspeise\"],\n",
    "            \"Nachspeise\" : [\"Süßes\", \"Obst\", \"Kaffee\", \"keine Nachspeise\"]}\n",
    "for Gericht, Optionen in Gerichte.items():\n",
    "    print(f\"Möglichkeiten für {Gericht}: \")\n",
    "    for index, Option in enumerate(Optionen):\n",
    "        print(f\"{index}) {Option}\")\n",
    "    while True:\n",
    "        Optionen_Anzahl = len(Optionen) - 1\n",
    "        Eingabe = input(f\"Bitte wählen Sie eine{Gericht}-Option (0 - {Optionen_Anzahl}): \")\n",
    "        if Eingabe.isdigit():\n",
    "            Eingabe = int(Eingabe)\n",
    "            if 0 <= Eingabe <= Optionen_Anzahl:\n",
    "                print(f\"Sie haben die {Gericht} {Optionen[Eingabe]} gewählt\")\n",
    "                break\n",
    "            else:\n",
    "                print(f\"Fehler, bitte wählen Sie eine gültige Option: 0 bis {Optionen_Anzahl}\")\n",
    "        else:\n",
    "            print(\"Fehler, bitte geben Sie eine Zahl ein.\")\n",
    "            "
   ]
  },
  {
   "cell_type": "markdown",
   "metadata": {
    "deletable": false,
    "editable": false
   },
   "source": [
    "### Aufgabe 7\n",
    "\n",
    "Erweitern Sie das Programm mit den besonderen Ausgaben:\n",
    "\n",
    "Sollte ein Nutzer sowohl Vor-, Haupt- und Nachspeise gewählt haben, soll außerdem am Ende die folgende Nachricht ausgegeben werden:\n",
    "\n",
    "```text\n",
    "    Hunger ist der beste Koch!\n",
    "```\n",
    "\n",
    "Wählt ein Nutzer weder Vor-, Haupt- und Nachspeise, soll am am Ende die folgende Nachricht ausgegeben werden:\n",
    "\n",
    "```text\n",
    "    Sie haben wohl keinen Hunger. Vielleicht sehen wir uns später nochmal.\n",
    "```"
   ]
  },
  {
   "cell_type": "code",
   "execution_count": 60,
   "metadata": {
    "tags": []
   },
   "outputs": [
    {
     "name": "stdout",
     "output_type": "stream",
     "text": [
      "Möglichkeiten für Vorspeise: \n",
      "0) Suppe\n",
      "1) Salat\n",
      "2) Brot\n",
      "3) keine Vorspeise\n",
      "Sie haben die Vorspeise keine Vorspeise gewählt\n",
      "Möglichkeiten für Hauptspeise: \n",
      "0) Fleisch\n",
      "1) Vegetarisch\n",
      "2) Vegan\n",
      "3) keine Hauptspeise\n",
      "Sie haben die Hauptspeise keine Hauptspeise gewählt\n",
      "Möglichkeiten für Nachspeise: \n",
      "0) Süßes\n",
      "1) Obst\n",
      "2) Kaffee\n",
      "3) keine Nachspeise\n",
      "Sie haben die Nachspeise keine Nachspeise gewählt\n",
      "Sie haben wohl keinen Hunger. Vielleicht sehen wir uns später nochmal.\n"
     ]
    }
   ],
   "source": [
    "Gerichte = {\"Vorspeise\": [\"Suppe\", \"Salat\", \"Brot\", \"keine Vorspeise\"],\n",
    "            \"Hauptspeise\": [\"Fleisch\", \"Vegetarisch\", \"Vegan\", \"keine Hauptspeise\"],\n",
    "            \"Nachspeise\": [\"Süßes\", \"Obst\", \"Kaffee\", \"keine Nachspeise\"]}\n",
    "Auswahl = []\n",
    "for Gericht, Optionen in Gerichte.items():\n",
    "    print(f\"Möglichkeiten für {Gericht}: \")\n",
    "    for index, Option in enumerate(Optionen):\n",
    "        print(f\"{index}) {Option}\")\n",
    "    while True:\n",
    "        Optionen_Anzahl = len(Optionen) - 1\n",
    "        Eingabe = input(f\"Bitte wählen Sie eine {Gericht}-Option (0-{Optionen_Anzahl}): \")\n",
    "        if Eingabe.isdigit():\n",
    "            Eingabe = int(Eingabe)\n",
    "            if 0 <= Eingabe <= Optionen_Anzahl:\n",
    "                print(f\"Sie haben die {Gericht} {Optionen[Eingabe]} gewählt\")\n",
    "                Auswahl.append(Optionen[Eingabe])\n",
    "                break\n",
    "            else:\n",
    "                print(f\"Fehler, bitte wählen Sie eine gültige Option: 0 bis {Optionen_Anzahl}\")\n",
    "        else:\n",
    "            print(\"Fehler, bitte geben Sie eine Zahl ein.\")\n",
    "if \"keine Vorspeise\" in Auswahl and \"keine Hauptspeise\" in Auswahl and \"keine Nachspeise\" in Auswahl:\n",
    "    print(\"Sie haben wohl keinen Hunger. Vielleicht sehen wir uns später nochmal.\")\n",
    "else:\n",
    "    print(\"Hunger ist der beste Koch!\")\n",
    "\n"
   ]
  },
  {
   "cell_type": "markdown",
   "metadata": {
    "deletable": false,
    "editable": false
   },
   "source": [
    "### Aufgabe 8\n",
    "\n",
    "Folgender Code liefert ein gesuchtes Element eines bestimmten Index zurück:"
   ]
  },
  {
   "cell_type": "code",
   "execution_count": 49,
   "metadata": {
    "deletable": false,
    "editable": false
   },
   "outputs": [
    {
     "name": "stdout",
     "output_type": "stream",
     "text": [
      "2\n",
      "c)\n"
     ]
    }
   ],
   "source": [
    "buchstaben = [\"a)\", \"b)\", \"c)\", \"d)\"]\n",
    "\n",
    "index = 2\n",
    "print(index)\n",
    "print(buchstaben[index]) # Wählt das index-te Element der Liste aus (Index beginnt bei 0!)"
   ]
  },
  {
   "cell_type": "markdown",
   "metadata": {
    "deletable": false,
    "editable": false
   },
   "source": [
    "Überlegen Sie sich, wie Sie dies für die Ausgabe der Zusammenfassung der Bestellung nutzen können und erweitern Sie den Source Code in einer neuen Zelle entsprechend."
   ]
  },
  {
   "cell_type": "code",
   "execution_count": 69,
   "metadata": {
    "tags": []
   },
   "outputs": [
    {
     "name": "stdout",
     "output_type": "stream",
     "text": [
      "Möglichkeiten für Vorspeise: \n",
      "0) Suppe\n",
      "1) Salat\n",
      "2) Brot\n",
      "3) keine Vorspeise\n",
      "Sie haben die Vorspeise Brot gewählt\n",
      "Möglichkeiten für Hauptspeise: \n",
      "0) Fleisch\n",
      "1) Vegetarisch\n",
      "2) Vegan\n",
      "3) keine Hauptspeise\n",
      "Sie haben die Hauptspeise keine Hauptspeise gewählt\n",
      "Möglichkeiten für Nachspeise: \n",
      "0) Süßes\n",
      "1) Obst\n",
      "2) Kaffee\n",
      "3) keine Nachspeise\n",
      "Sie haben die Nachspeise Obst gewählt\n",
      "Ihre Bestellung: 0) Brot, 1) Obst\n"
     ]
    }
   ],
   "source": [
    "Gerichte = {\"Vorspeise\": [\"Suppe\", \"Salat\", \"Brot\", \"keine Vorspeise\"],\"Hauptspeise\": [\"Fleisch\", \"Vegetarisch\", \"Vegan\", \"keine Hauptspeise\"],\"Nachspeise\": [\"Süßes\", \"Obst\", \"Kaffee\", \"keine Nachspeise\"]}\n",
    "Auswahl = []\n",
    "for Gericht, Optionen in Gerichte.items():\n",
    "    print(f\"Möglichkeiten für {Gericht}: \")\n",
    "    for index, Option in enumerate(Optionen):\n",
    "        print(f\"{index}) {Option}\")\n",
    "    while True:\n",
    "        Optionen_Anzahl = len(Optionen) - 1\n",
    "        Eingabe = input(f\"Bitte wählen Sie eine {Gericht}-Option (0-{Optionen_Anzahl}): \")\n",
    "        if Eingabe.isdigit():\n",
    "            Eingabe = int(Eingabe)\n",
    "            if 0 <= Eingabe <= Optionen_Anzahl:\n",
    "                print(f\"Sie haben die {Gericht} {Optionen[Eingabe]} gewählt\")\n",
    "                Auswahl.append(Optionen[Eingabe])\n",
    "                break\n",
    "            else:\n",
    "                print(f\"Fehler, bitte wählen Sie eine gültige Option: 0 bis {Optionen_Anzahl}\")\n",
    "        else:\n",
    "            print(\"Fehler, bitte geben Sie eine Zahl ein.\")\n",
    "bestellte_gerichte = [gericht for gericht in Auswahl if not gericht.startswith(\"keine\")]\n",
    "if not bestellte_gerichte:\n",
    "    print(\"Sie haben wohl keinen Hunger. Vielleicht sehen wir uns später nochmal.\")\n",
    "else:\n",
    "    bestellungszusammenfassung = \", \".join([f\"{index}) {gericht}\" for index, gericht in enumerate(bestellte_gerichte)])\n",
    "    print(f\"Ihre Bestellung: {bestellungszusammenfassung}\")\n"
   ]
  },
  {
   "cell_type": "markdown",
   "metadata": {},
   "source": [
    "### Aufgabe 9\n",
    "\n",
    "Ein Problem kann in Software auf unzählige Arten und Weisen gelöst werden. Die verschiedenen Lösungen unterscheiden sich bezüglich der Qualität der Software. Klassische Software-Qualitätskriterien sind unter anderem\n",
    "\n",
    "* Erweiterbarkeit\n",
    "* Wartbarkeit\n",
    "* Lesbarkeit\n",
    "* Effizienz\n",
    "* Funktionalität\n",
    "* ...\n",
    "\n",
    "Ändern Sie den Mensaspeiseplan indem Sie ein Hauptgericht hinzufügen. Außerdem sind die Kekse aus, d.h. dieser Eintrag soll von Ihrem Programm entfernt werden. An welchen Stellen müssen Sie Änderungen durchführen? Wie beurteilen Sie Ihr Programm bezüglich Erweiterbarkeit? Haben Sie eine Idee, wie Sie die Anzahl an Stellen reduzieren könnten?"
   ]
  },
  {
   "cell_type": "markdown",
   "metadata": {},
   "source": [
    "*Notieren Sie hier Ihre Änderungen und Ihre Idee, wie Sie das Programm hinsichtlich Erweiterbarkeit verbessern könnten.*"
   ]
  },
  {
   "cell_type": "markdown",
   "metadata": {
    "deletable": false,
    "editable": false
   },
   "source": [
    "---\n",
    "\n",
    "**Hinweis**: Durch Auswertung der folgenden Zelle werden alle Tests ausgeführt.\n",
    "Sie sollten das Notebook zuvor bis hier hin von oben nach unten ausgewertet haben.\n",
    "\n"
   ]
  },
  {
   "cell_type": "code",
   "execution_count": null,
   "metadata": {
    "deletable": false,
    "editable": false
   },
   "outputs": [],
   "source": [
    "grader.check_all()"
   ]
  }
 ],
 "metadata": {
  "kernelspec": {
   "display_name": "Python 3",
   "language": "python",
   "name": "python3"
  },
  "language_info": {
   "codemirror_mode": {
    "name": "ipython",
    "version": 3
   },
   "file_extension": ".py",
   "mimetype": "text/x-python",
   "name": "python",
   "nbconvert_exporter": "python",
   "pygments_lexer": "ipython3",
   "version": "3.11.5"
  },
  "otter": {
   "OK_FORMAT": false,
   "assignment_name": "04_kontrollstrukturen",
   "tests": {}
  }
 },
 "nbformat": 4,
 "nbformat_minor": 2
}
